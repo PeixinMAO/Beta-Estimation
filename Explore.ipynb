{
 "cells": [
  {
   "cell_type": "code",
   "execution_count": null,
   "metadata": {},
   "outputs": [],
   "source": [
    "import pandas as pd\n",
    "import numpy as np\n",
    "import scipy.stats.mstats"
   ]
  },
  {
   "cell_type": "markdown",
   "metadata": {},
   "source": [
    "# GET HISTORICAL DATA"
   ]
  },
  {
   "cell_type": "code",
   "execution_count": null,
   "metadata": {},
   "outputs": [],
   "source": [
    "histoStocks = pd.read_csv(\"/home/khll/School/ENSAE/CIAM/data/candlestick_fund_And_SX5E.csv\")\n",
    "histoStocks[\"Date\"] = pd.to_datetime(histoStocks[\"Date\"])\n",
    "\n",
    "# We'll only use the last price for vol/cor calculations at this point.\n",
    "histoData=histoStocks[[\"Date\"]+[colname for colname in histoStocks.columns if \"Last\" in colname]]\n",
    "histoData.columns = [colname.replace(\".Last\",\"\") for colname in histoData.columns]\n",
    "\n",
    "histoData=histoData.set_index('Date')\n",
    "histoData= histoData.dropna(thresh=20)\n",
    "\n",
    "histoData=histoData.fillna(method='ffill')\n",
    "histoData"
   ]
  },
  {
   "cell_type": "markdown",
   "metadata": {},
   "source": [
    "# DEF util functions"
   ]
  },
  {
   "cell_type": "code",
   "execution_count": null,
   "metadata": {},
   "outputs": [],
   "source": [
    "def ciRollingSum(a, n) :\n",
    "    if n == 1:\n",
    "        return a\n",
    "    ret = np.cumsum(a, axis=0, dtype=float)\n",
    "    ret[n:] = ret[n:] - ret[:-n]\n",
    "    return ret[n - 1:]"
   ]
  },
  {
   "cell_type": "markdown",
   "metadata": {},
   "source": [
    "# GET DAY RETURN STOCKS & INDEX"
   ]
  },
  {
   "cell_type": "code",
   "execution_count": null,
   "metadata": {},
   "outputs": [],
   "source": [
    "nbDayReturn = 1\n",
    "return1D = np.log(histoData) - np.log(histoData.shift(nbDayReturn))\n",
    "return1D = return1D.dropna(how='all')\n",
    "return1D = return1D.fillna(method='ffill')\n",
    "return1D"
   ]
  },
  {
   "cell_type": "markdown",
   "metadata": {},
   "source": [
    "# GET vol Realised "
   ]
  },
  {
   "cell_type": "code",
   "execution_count": null,
   "metadata": {},
   "outputs": [],
   "source": [
    "volData_Realised_6M_NoWinsor =  return1D.rolling(126).std() * np.sqrt(252 / nbDayReturn)\n",
    "volData_Realised_3M_NoWinsor = return1D.rolling(63).std() * np.sqrt(252 / nbDayReturn)"
   ]
  },
  {
   "cell_type": "markdown",
   "metadata": {},
   "source": [
    "# GET vol Realised Winsorized"
   ]
  },
  {
   "cell_type": "code",
   "execution_count": null,
   "metadata": {},
   "outputs": [],
   "source": [
    "#Remove/flatten 2 observations on each side (63 * 4% = 2.52 -> 2 on each side)\n",
    "volData_Realised_Winsor_3M = return1D.rolling(63 + nbDayReturn - 1).apply(lambda s:\n",
    "                                                 ciRollingSum(\n",
    "                                                     scipy.stats.mstats.winsorize(s,.04).data,nbDayReturn).std(),raw=True\n",
    "                                                                          ) * np.sqrt(252 / nbDayReturn)\n",
    "\n",
    "#Remove/flatten 3 observations on each side (126 * 2.5% = 3.15 -> 3 on each side)\n",
    "volData_Realised_Winsor_6M = return1D.rolling(126 + nbDayReturn - 1).apply(lambda s:\n",
    "                                                 ciRollingSum(\n",
    "                                                     scipy.stats.mstats.winsorize(s,.025).data,nbDayReturn).std(),raw=True\n",
    "                                                                          ) * np.sqrt(252 / nbDayReturn)"
   ]
  },
  {
   "cell_type": "markdown",
   "metadata": {},
   "source": [
    "# GET correl Realised"
   ]
  },
  {
   "cell_type": "code",
   "execution_count": null,
   "metadata": {},
   "outputs": [],
   "source": [
    "correl_Realised_6M = pd.DataFrame()\n",
    "correl_Realised_3M = pd.DataFrame()\n",
    "\n",
    "for tickerLoop in return1D.columns:\n",
    "    correl_Realised_6M[tickerLoop] = return1D[tickerLoop].rolling(126).corr(return1D['SX5E Index'])\n",
    "    correl_Realised_3M[tickerLoop] = return1D[tickerLoop].rolling(63).corr(return1D['SX5E Index'])\n"
   ]
  },
  {
   "cell_type": "markdown",
   "metadata": {},
   "source": [
    "# GET correl Realised Winsorized"
   ]
  },
  {
   "cell_type": "markdown",
   "metadata": {},
   "source": [
    "## 3M"
   ]
  },
  {
   "cell_type": "code",
   "execution_count": null,
   "metadata": {},
   "outputs": [],
   "source": [
    "#63\n",
    "NDay = 63\n",
    "nWinsor = 4\n",
    "pctWinsor = .04\n",
    "\n",
    "\n",
    "nDailyObs = NDay + (nbDayReturn - 1) + nWinsor\n",
    "startDate = '2018-01-02'\n",
    "indexTicker = 'SX5E Index'\n",
    "\n",
    "d = {'Dates': [], 'Tickers': [], 'Values': []}\n",
    "correlRolling_ = pd.DataFrame(data=d)\n",
    "correlRolling_ = pd.DataFrame(columns = ['Dates', 'Tickers', 'Values'])\n",
    "\n",
    "for ticker in return1D.columns:\n",
    "    print(\"Computing Correlation : \" +ticker )\n",
    "    dates = return1D[startDate:].index\n",
    "    for date in dates:\n",
    "        if ticker in return1D.columns:\n",
    "            stockData = return1D[ticker][:date].tail(nDailyObs).values\n",
    "            idxData = return1D[indexTicker][:date].tail(nDailyObs).values\n",
    "            wStockData = scipy.stats.mstats.winsorize(stockData, pctWinsor)\n",
    "            stockRetData = ciRollingSum(wStockData, nbDayReturn)\n",
    "            idxRetDate = ciRollingSum(idxData, nbDayReturn)\n",
    "            corr = np.corrcoef(stockRetData, idxRetDate)[1,0]\n",
    "            df = {'Dates':date, 'Tickers': ticker, 'Values': corr}\n",
    "            correlRolling_ = correlRolling_.append(df , ignore_index= True)\n",
    "        else:\n",
    "            print(\"Histo prices is missing for ticker : \" + str(ticker))\n",
    "correl_RealisedWinsor_3M = correlRolling_.pivot(index ='Dates', columns='Tickers', values ='Values')"
   ]
  },
  {
   "cell_type": "markdown",
   "metadata": {},
   "source": [
    "## 6M"
   ]
  },
  {
   "cell_type": "code",
   "execution_count": null,
   "metadata": {},
   "outputs": [],
   "source": [
    "#126\n",
    "NDay = 126\n",
    "nWinsor = 6\n",
    "pctWinsor = .025\n",
    "\n",
    "nDailyObs = NDay + (nbDayReturn - 1) + nWinsor\n",
    "startDate = '2018-01-02'\n",
    "indexTicker = 'SX5E Index'\n",
    "\n",
    "d = {'Dates': [], 'Tickers': [], 'Values': []}\n",
    "correlRolling_ = pd.DataFrame(data=d)\n",
    "correlRolling_ = pd.DataFrame(columns = ['Dates', 'Tickers', 'Values'])\n",
    "\n",
    "for ticker in return1D.columns:\n",
    "    print(\"Computing Correlation : \" +ticker )\n",
    "    dates = return1D[startDate:].index\n",
    "    for date in dates:\n",
    "        if ticker in return1D.columns:\n",
    "            stockData = return1D[ticker][:date].tail(nDailyObs).values\n",
    "            idxData = return1D[indexTicker][:date].tail(nDailyObs).values\n",
    "            wStockData = scipy.stats.mstats.winsorize(stockData, pctWinsor)\n",
    "            stockRetData = ciRollingSum(wStockData, nbDayReturn)\n",
    "            idxRetDate = ciRollingSum(idxData, nbDayReturn)\n",
    "            corr = np.corrcoef(stockRetData, idxRetDate)[1,0]\n",
    "            df = {'Dates':date, 'Tickers': ticker, 'Values': corr}\n",
    "            correlRolling_ = correlRolling_.append(df , ignore_index= True)\n",
    "        else:\n",
    "            print(\"Histo prices is missing for ticker : \" + str(ticker))\n",
    "correl_RealisedWinsor_6M = correlRolling_.pivot(index ='Dates', columns='Tickers', values ='Values')"
   ]
  }
 ],
 "metadata": {
  "kernelspec": {
   "display_name": "Python 3",
   "language": "python",
   "name": "python3"
  },
  "language_info": {
   "codemirror_mode": {
    "name": "ipython",
    "version": 3
   },
   "file_extension": ".py",
   "mimetype": "text/x-python",
   "name": "python",
   "nbconvert_exporter": "python",
   "pygments_lexer": "ipython3",
   "version": "3.7.4"
  }
 },
 "nbformat": 4,
 "nbformat_minor": 2
}
